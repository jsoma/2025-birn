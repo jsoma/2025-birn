{
 "cells": [
  {
   "cell_type": "markdown",
   "id": "c8e1cb81-6b9e-4e41-abfb-03bb410afbd9",
   "metadata": {
    "editable": true,
    "slideshow": {
     "slide_type": ""
    },
    "tags": []
   },
   "source": [
    "# Data analysis basics with pandas\n",
    "\n",
    "## Installation\n",
    "\n",
    "Even though we have Python installed, we still need to install some extra pieces of software! Python is a whole ecosystem of content, where many of the best abilities are from packages/libraries/modules that are made by other people or companies."
   ]
  },
  {
   "cell_type": "code",
   "metadata": {},
   "source": [
    "# First we need to download some things!\n",
    "# Run this cell to get the necessary data and software\nimport os\n",
    "import urllib.request\n",
    "import zipfile\n",
    "\n",
    "# Install required packages\n",
    "!pip install -q pandas altair lxml tqdm requests\n",
    "\n",
    "# Download and extract data files\n",
    "url = 'https://github.com/jsoma/2025-birn/raw/main/docs/01-pandas-data.zip'\n",
    "print(f'Downloading data from {url}...')\n",
    "urllib.request.urlretrieve(url, '01-pandas-data.zip')\n",
    "\n",
    "print('Extracting 01-pandas-data.zip...')\n",
    "with zipfile.ZipFile('01-pandas-data.zip', 'r') as zip_ref:\n",
    "    zip_ref.extractall('.')\n",
    "\n",
    "os.remove('01-pandas-data.zip')\n",
    "print('\u2713 Data files extracted!')"
   ],
   "execution_count": null,
   "outputs": []
  },
  {
   "cell_type": "markdown",
   "id": "8a141ce1-e4b9-4226-b3cb-01ff5e7722ca",
   "metadata": {},
   "source": [
    "## Using pandas\n",
    "\n",
    "To use pandas, we first need to **import it**. Then we can go ahead with reading in our data and analyzing it."
   ]
  },
  {
   "cell_type": "code",
   "execution_count": null,
   "id": "d5829cf1-c9f4-43b2-bbe9-9d7320e22eb4",
   "metadata": {},
   "outputs": [],
   "source": [
    "import pandas as pd\n",
    "\n",
    "# This creates a \"dataframe\" - the Python version of a spreadsheet\n",
    "df = pd.read_csv(\"countries.csv\")\n",
    "df"
   ]
  },
  {
   "cell_type": "code",
   "execution_count": null,
   "id": "ea451fac-ee71-41a5-afb9-7d4934172f2f",
   "metadata": {
    "editable": true,
    "slideshow": {
     "slide_type": ""
    },
    "tags": []
   },
   "outputs": [],
   "source": [
    "df.head()"
   ]
  },
  {
   "cell_type": "code",
   "execution_count": null,
   "id": "87c61c33-b011-4c97-aa92-ce3227dd9404",
   "metadata": {
    "editable": true,
    "slideshow": {
     "slide_type": ""
    },
    "tags": [
     "solution"
    ]
   },
   "outputs": [],
   "source": [
    "df.head(2)"
   ]
  },
  {
   "cell_type": "code",
   "execution_count": null,
   "id": "671e4288-5d00-436e-b575-4b96a11c99dd",
   "metadata": {
    "editable": true,
    "slideshow": {
     "slide_type": ""
    },
    "tags": [
     "solution"
    ]
   },
   "outputs": [],
   "source": [
    "df.tail()"
   ]
  },
  {
   "cell_type": "code",
   "execution_count": null,
   "id": "1d26488d-e7e1-4e7b-88d9-4ac39441f110",
   "metadata": {
    "editable": true,
    "slideshow": {
     "slide_type": ""
    },
    "tags": [
     "solution"
    ]
   },
   "outputs": [],
   "source": [
    "df.sort_values(by='gdp')"
   ]
  },
  {
   "cell_type": "code",
   "execution_count": null,
   "id": "7095ec9f-ddce-475a-896f-c2269392216d",
   "metadata": {
    "editable": true,
    "slideshow": {
     "slide_type": ""
    },
    "tags": [
     "solution"
    ]
   },
   "outputs": [],
   "source": [
    "df.sort_values(by='gdp', ascending=False)"
   ]
  },
  {
   "cell_type": "code",
   "execution_count": null,
   "id": "1dcc9515-db94-4947-8945-b0db0832b2fd",
   "metadata": {
    "editable": true,
    "slideshow": {
     "slide_type": ""
    },
    "tags": [
     "solution"
    ]
   },
   "outputs": [],
   "source": [
    "df.sort_values('life_expectancy', ascending=False).head(10)"
   ]
  },
  {
   "cell_type": "code",
   "execution_count": null,
   "id": "e5fbdf2e-dd8b-4824-9276-51e709ca3ce7",
   "metadata": {
    "editable": true,
    "slideshow": {
     "slide_type": ""
    },
    "tags": [
     "solution"
    ]
   },
   "outputs": [],
   "source": [
    "df.head(10).sort_values('life_expectancy', ascending=False)"
   ]
  },
  {
   "cell_type": "code",
   "execution_count": null,
   "id": "cfcff0cb-186b-47ef-a9d7-583c4537dd68",
   "metadata": {
    "editable": true,
    "slideshow": {
     "slide_type": ""
    },
    "tags": [
     "solution"
    ]
   },
   "outputs": [],
   "source": [
    "df['life_expectancy']"
   ]
  },
  {
   "cell_type": "code",
   "execution_count": null,
   "id": "92fe9652-fb29-4e37-8919-23d6cf649465",
   "metadata": {
    "editable": true,
    "slideshow": {
     "slide_type": ""
    },
    "tags": [
     "solution"
    ]
   },
   "outputs": [],
   "source": [
    "df['life_expectancy'].median()"
   ]
  },
  {
   "cell_type": "code",
   "execution_count": null,
   "id": "5fd43e6a-479f-4dd1-96ed-81f68dba829e",
   "metadata": {
    "editable": true,
    "slideshow": {
     "slide_type": ""
    },
    "tags": [
     "solution"
    ]
   },
   "outputs": [],
   "source": [
    "df['life_expectancy'] > 75"
   ]
  },
  {
   "cell_type": "code",
   "execution_count": null,
   "id": "9f154ab0-e729-450e-bfb6-6d1227a823c0",
   "metadata": {
    "editable": true,
    "slideshow": {
     "slide_type": ""
    },
    "tags": [
     "solution"
    ]
   },
   "outputs": [],
   "source": [
    "df[df['life_expectancy'] > 75]"
   ]
  },
  {
   "cell_type": "code",
   "execution_count": null,
   "id": "79feac9b-75f8-482e-b621-936d1084c8a5",
   "metadata": {
    "editable": true,
    "slideshow": {
     "slide_type": ""
    },
    "tags": [
     "solution"
    ]
   },
   "outputs": [],
   "source": [
    "df['continent'].value_counts()"
   ]
  },
  {
   "cell_type": "code",
   "execution_count": null,
   "id": "59c04855-53c9-4821-ad40-0fb5d4800ba9",
   "metadata": {
    "editable": true,
    "slideshow": {
     "slide_type": ""
    },
    "tags": [
     "solution"
    ]
   },
   "outputs": [],
   "source": [
    "df['continent'].unique()"
   ]
  },
  {
   "cell_type": "code",
   "execution_count": null,
   "id": "5ff86529-5616-47ea-abc8-f6dece9ca6df",
   "metadata": {
    "editable": true,
    "slideshow": {
     "slide_type": ""
    },
    "tags": [
     "solution"
    ]
   },
   "outputs": [],
   "source": [
    "df[df['continent'] == 'Europe']"
   ]
  },
  {
   "cell_type": "code",
   "execution_count": null,
   "id": "9abe7496-e665-468b-a63a-10435da05916",
   "metadata": {
    "editable": true,
    "slideshow": {
     "slide_type": ""
    },
    "tags": [
     "solution"
    ]
   },
   "outputs": [],
   "source": [
    "df[df['continent'] == 'Europe'].sort_values(by='life_expectancy', ascending=False)"
   ]
  },
  {
   "cell_type": "code",
   "execution_count": null,
   "id": "1a539bbc-5b22-4adb-835e-165cf9fbe2a7",
   "metadata": {
    "editable": true,
    "slideshow": {
     "slide_type": ""
    },
    "tags": [
     "solution"
    ]
   },
   "outputs": [],
   "source": [
    "df[df['continent'] == 'Europe']['life_expectancy'].median()"
   ]
  },
  {
   "cell_type": "code",
   "execution_count": null,
   "id": "847477d7-e46a-458f-a4d7-5f382f7a3df0",
   "metadata": {
    "editable": true,
    "slideshow": {
     "slide_type": ""
    },
    "tags": [
     "solution"
    ]
   },
   "outputs": [],
   "source": [
    "df['life_expectancy'].describe()"
   ]
  },
  {
   "cell_type": "code",
   "execution_count": null,
   "id": "e8e94478-fc41-42ee-b266-8f71a3419faa",
   "metadata": {
    "editable": true,
    "slideshow": {
     "slide_type": ""
    },
    "tags": [
     "solution"
    ]
   },
   "outputs": [],
   "source": [
    "df.groupby('continent')['life_expectancy'].median()"
   ]
  },
  {
   "cell_type": "code",
   "execution_count": null,
   "id": "9506a87c-abb0-4e85-a7be-ce098f9e3345",
   "metadata": {
    "editable": true,
    "slideshow": {
     "slide_type": ""
    },
    "tags": [
     "solution"
    ]
   },
   "outputs": [],
   "source": [
    "df.groupby('continent')['life_expectancy'].median().reset_index()"
   ]
  },
  {
   "cell_type": "code",
   "execution_count": null,
   "id": "0f51248b-403f-4d40-be60-96db098e43e8",
   "metadata": {
    "editable": true,
    "slideshow": {
     "slide_type": ""
    },
    "tags": [
     "solution"
    ]
   },
   "outputs": [],
   "source": [
    "df.groupby('continent').agg({\n",
    "    'life_expectancy': 'median',\n",
    "    'gdp': 'max'\n",
    "})"
   ]
  },
  {
   "cell_type": "code",
   "execution_count": null,
   "id": "85004592-aae8-470c-a7a4-030f793e0e24",
   "metadata": {
    "editable": true,
    "slideshow": {
     "slide_type": ""
    },
    "tags": [
     "solution"
    ]
   },
   "outputs": [],
   "source": [
    "# Try to save this as a column??????\n",
    "df['gdp_per_capita'] = df['gdp'] / df['population']\n",
    "df.head(2)"
   ]
  },
  {
   "cell_type": "markdown",
   "id": "fdfeddf9-8bdb-4fba-bc44-f74c352bf987",
   "metadata": {},
   "source": [
    "## Saving\n",
    "\n",
    "When you save your CSV, you always need to include `index=False`. If you don't, you get extra unnamed columns that are irritating to you and your coworkers!"
   ]
  },
  {
   "cell_type": "code",
   "execution_count": null,
   "id": "46b6bf90-8935-4451-adee-91c355cd12ba",
   "metadata": {
    "editable": true,
    "slideshow": {
     "slide_type": ""
    },
    "tags": []
   },
   "outputs": [],
   "source": [
    "df.to_csv(\"output.csv\", index=False)"
   ]
  },
  {
   "cell_type": "markdown",
   "id": "4a95bc88-155b-49fa-8101-98a78be7812a",
   "metadata": {},
   "source": [
    "## Graphing\n",
    "\n",
    "There's a good way to graph and a bad way to graph: the default is [matplotlib](https://matplotlib.org/), which is 100% the worst. A great alternative is [Altair](https://altair-viz.github.io/gallery/index.html), which is more useful and produces prettier (and interactive!) graphics."
   ]
  },
  {
   "cell_type": "code",
   "execution_count": null,
   "id": "9a6bfd06-678c-4649-9f6d-f15db0062506",
   "metadata": {
    "editable": true,
    "slideshow": {
     "slide_type": ""
    },
    "tags": []
   },
   "outputs": [],
   "source": [
    "df.plot(x='gdp_per_capita', y='life_expectancy', kind='scatter')"
   ]
  },
  {
   "cell_type": "code",
   "execution_count": null,
   "id": "e47f7fa8-895b-4dad-b6d0-dc392814a80f",
   "metadata": {
    "editable": true,
    "slideshow": {
     "slide_type": ""
    },
    "tags": []
   },
   "outputs": [],
   "source": []
  },
  {
   "cell_type": "code",
   "execution_count": null,
   "id": "04163812-640f-4046-b03e-cf06e9454bb1",
   "metadata": {},
   "outputs": [],
   "source": [
    "import altair as alt\n",
    "\n",
    "alt.Chart(df).mark_circle(size=50).encode(\n",
    "    x='gdp_per_capita',\n",
    "    y='life_expectancy',\n",
    "    color='continent',\n",
    "    tooltip=['country', 'continent', 'life_expectancy', 'population']\n",
    ").properties(\n",
    "    width=800,\n",
    "    height=300\n",
    ").interactive()"
   ]
  }
 ],
 "metadata": {
  "kernelspec": {
   "display_name": "Python 3",
   "language": "python",
   "name": "python3"
  },
  "language_info": {
   "codemirror_mode": {
    "name": "ipython",
    "version": 3
   },
   "file_extension": ".py",
   "mimetype": "text/x-python",
   "name": "python",
   "nbconvert_exporter": "python",
   "pygments_lexer": "ipython3",
   "version": "3.10.13"
  },
  "workshop": {
   "data_files": [
    "countries.csv"
   ],
   "description": "Pandas is the most common tool that programmers use for analyzing data. And if that wasn't good enough for you: AI uses it, too!",
   "install": "pandas altair lxml tqdm requests",
   "order": 2,
   "title": "Data analysis basics with pandas"
  }
 },
 "nbformat": 4,
 "nbformat_minor": 5
}